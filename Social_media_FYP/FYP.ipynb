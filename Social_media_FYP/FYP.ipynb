{
 "cells": [
  {
   "cell_type": "code",
   "execution_count": 217,
   "metadata": {},
   "outputs": [],
   "source": [
    "import pandas as pd\n",
    "import numpy as np\n",
    "from sklearn.feature_extraction.text import TfidfVectorizer\n",
    "from sklearn.metrics.pairwise import linear_kernel\n",
    "from sklearn.preprocessing import MinMaxScaler"
   ]
  },
  {
   "cell_type": "code",
   "execution_count": 218,
   "metadata": {},
   "outputs": [],
   "source": [
    "influencer_df=pd.read_csv(\"influencers.csv\")"
   ]
  },
  {
   "cell_type": "code",
   "execution_count": 219,
   "metadata": {},
   "outputs": [],
   "source": [
    "usersdf=pd.read_csv(\"SocialMediaUsers.csv\")"
   ]
  },
  {
   "cell_type": "code",
   "execution_count": 220,
   "metadata": {},
   "outputs": [],
   "source": [
    "usersdf.drop(columns=[\"Gender\",\"UserID\",\"City\",\"DOB\",],inplace=True)"
   ]
  },
  {
   "cell_type": "code",
   "execution_count": 221,
   "metadata": {},
   "outputs": [
    {
     "name": "stdout",
     "output_type": "stream",
     "text": [
      "<class 'pandas.core.frame.DataFrame'>\n",
      "RangeIndex: 100000 entries, 0 to 99999\n",
      "Data columns (total 3 columns):\n",
      " #   Column     Non-Null Count   Dtype \n",
      "---  ------     --------------   ----- \n",
      " 0   Name       100000 non-null  object\n",
      " 1   Interests  100000 non-null  object\n",
      " 2   Country    100000 non-null  object\n",
      "dtypes: object(3)\n",
      "memory usage: 2.3+ MB\n"
     ]
    }
   ],
   "source": [
    "usersdf.info()"
   ]
  },
  {
   "cell_type": "code",
   "execution_count": 222,
   "metadata": {},
   "outputs": [],
   "source": [
    "usersdf[\"keywords\"]=usersdf[\"Interests\"]+\",\"+usersdf[\"Country\"]"
   ]
  },
  {
   "cell_type": "code",
   "execution_count": 223,
   "metadata": {},
   "outputs": [],
   "source": [
    "usersdf[\"keywords\"]=usersdf[\"keywords\"].str.replace(\"'\",\"\")"
   ]
  },
  {
   "cell_type": "code",
   "execution_count": 224,
   "metadata": {},
   "outputs": [],
   "source": [
    "usersdf.drop(columns=[\"Interests\",\"Country\"],inplace=True)"
   ]
  },
  {
   "cell_type": "code",
   "execution_count": 225,
   "metadata": {},
   "outputs": [
    {
     "data": {
      "text/html": [
       "<div>\n",
       "<style scoped>\n",
       "    .dataframe tbody tr th:only-of-type {\n",
       "        vertical-align: middle;\n",
       "    }\n",
       "\n",
       "    .dataframe tbody tr th {\n",
       "        vertical-align: top;\n",
       "    }\n",
       "\n",
       "    .dataframe thead th {\n",
       "        text-align: right;\n",
       "    }\n",
       "</style>\n",
       "<table border=\"1\" class=\"dataframe\">\n",
       "  <thead>\n",
       "    <tr style=\"text-align: right;\">\n",
       "      <th></th>\n",
       "      <th>Name</th>\n",
       "      <th>keywords</th>\n",
       "    </tr>\n",
       "  </thead>\n",
       "  <tbody>\n",
       "    <tr>\n",
       "      <th>0</th>\n",
       "      <td>Jesse Lawhorn</td>\n",
       "      <td>Movies, Fashion, Fashion, Books,Indonesia</td>\n",
       "    </tr>\n",
       "    <tr>\n",
       "      <th>1</th>\n",
       "      <td>Stacy Payne</td>\n",
       "      <td>Gaming, Finance and investments, Outdoor activ...</td>\n",
       "    </tr>\n",
       "    <tr>\n",
       "      <th>2</th>\n",
       "      <td>Katrina Nicewander</td>\n",
       "      <td>DIY and crafts, Music, Science, Fashion,Jordan</td>\n",
       "    </tr>\n",
       "    <tr>\n",
       "      <th>3</th>\n",
       "      <td>Eric Yarbrough</td>\n",
       "      <td>Outdoor activities, Cars and automobiles,Italy</td>\n",
       "    </tr>\n",
       "    <tr>\n",
       "      <th>4</th>\n",
       "      <td>Daniel Adkins</td>\n",
       "      <td>Politics, History,Venezuela</td>\n",
       "    </tr>\n",
       "    <tr>\n",
       "      <th>...</th>\n",
       "      <td>...</td>\n",
       "      <td>...</td>\n",
       "    </tr>\n",
       "    <tr>\n",
       "      <th>99995</th>\n",
       "      <td>Lionel Denault</td>\n",
       "      <td>DIY and crafts,China</td>\n",
       "    </tr>\n",
       "    <tr>\n",
       "      <th>99996</th>\n",
       "      <td>Margie Mieszala</td>\n",
       "      <td>Cars and automobiles, Cooking, Outdoor activit...</td>\n",
       "    </tr>\n",
       "    <tr>\n",
       "      <th>99997</th>\n",
       "      <td>Joan Mercedes</td>\n",
       "      <td>Business and entrepreneurship, Cooking,Chile</td>\n",
       "    </tr>\n",
       "    <tr>\n",
       "      <th>99998</th>\n",
       "      <td>Marvin Massa</td>\n",
       "      <td>Gaming, Business and entrepreneurship, Fashion...</td>\n",
       "    </tr>\n",
       "    <tr>\n",
       "      <th>99999</th>\n",
       "      <td>Josh Young</td>\n",
       "      <td>Politics, Pets,Poland</td>\n",
       "    </tr>\n",
       "  </tbody>\n",
       "</table>\n",
       "<p>100000 rows × 2 columns</p>\n",
       "</div>"
      ],
      "text/plain": [
       "                     Name                                           keywords\n",
       "0           Jesse Lawhorn          Movies, Fashion, Fashion, Books,Indonesia\n",
       "1             Stacy Payne  Gaming, Finance and investments, Outdoor activ...\n",
       "2      Katrina Nicewander     DIY and crafts, Music, Science, Fashion,Jordan\n",
       "3          Eric Yarbrough     Outdoor activities, Cars and automobiles,Italy\n",
       "4           Daniel Adkins                        Politics, History,Venezuela\n",
       "...                   ...                                                ...\n",
       "99995      Lionel Denault                               DIY and crafts,China\n",
       "99996     Margie Mieszala  Cars and automobiles, Cooking, Outdoor activit...\n",
       "99997       Joan Mercedes       Business and entrepreneurship, Cooking,Chile\n",
       "99998        Marvin Massa  Gaming, Business and entrepreneurship, Fashion...\n",
       "99999          Josh Young                              Politics, Pets,Poland\n",
       "\n",
       "[100000 rows x 2 columns]"
      ]
     },
     "execution_count": 225,
     "metadata": {},
     "output_type": "execute_result"
    }
   ],
   "source": [
    "usersdf"
   ]
  },
  {
   "cell_type": "code",
   "execution_count": 226,
   "metadata": {},
   "outputs": [],
   "source": [
    "influencer_df[\"keywords\"]=influencer_df[\"country\"]+\",\"+influencer_df[\"Category_1\"]+\",\"+influencer_df[\"Category_2\"]+\",\"+influencer_df[\"Category_3\"]"
   ]
  },
  {
   "cell_type": "code",
   "execution_count": 227,
   "metadata": {},
   "outputs": [],
   "source": [
    "influencer_df[\"keywords\"]=influencer_df[\"keywords\"].str.replace(\"'\",\"\")"
   ]
  },
  {
   "cell_type": "code",
   "execution_count": 228,
   "metadata": {},
   "outputs": [],
   "source": [
    "influencer_df.drop(columns=[\"country\",\"Category_1\",\"Category_2\",\"Category_3\"],inplace=True)"
   ]
  },
  {
   "cell_type": "code",
   "execution_count": 229,
   "metadata": {},
   "outputs": [
    {
     "data": {
      "text/html": [
       "<div>\n",
       "<style scoped>\n",
       "    .dataframe tbody tr th:only-of-type {\n",
       "        vertical-align: middle;\n",
       "    }\n",
       "\n",
       "    .dataframe tbody tr th {\n",
       "        vertical-align: top;\n",
       "    }\n",
       "\n",
       "    .dataframe thead th {\n",
       "        text-align: right;\n",
       "    }\n",
       "</style>\n",
       "<table border=\"1\" class=\"dataframe\">\n",
       "  <thead>\n",
       "    <tr style=\"text-align: right;\">\n",
       "      <th></th>\n",
       "      <th>S.no</th>\n",
       "      <th>username</th>\n",
       "      <th>followers</th>\n",
       "      <th>viewers</th>\n",
       "      <th>Average views</th>\n",
       "      <th>keywords</th>\n",
       "    </tr>\n",
       "  </thead>\n",
       "  <tbody>\n",
       "    <tr>\n",
       "      <th>0</th>\n",
       "      <td>1</td>\n",
       "      <td>cristiano</td>\n",
       "      <td>477.9M</td>\n",
       "      <td>5M</td>\n",
       "      <td>6.2M</td>\n",
       "      <td>India,Parenting and family,Art,History</td>\n",
       "    </tr>\n",
       "    <tr>\n",
       "      <th>1</th>\n",
       "      <td>2</td>\n",
       "      <td>kyliejenner</td>\n",
       "      <td>368.1M</td>\n",
       "      <td>3.5M</td>\n",
       "      <td>5.5M</td>\n",
       "      <td>United States,Finance and investments,Travel,Pets</td>\n",
       "    </tr>\n",
       "    <tr>\n",
       "      <th>2</th>\n",
       "      <td>3</td>\n",
       "      <td>arianagrande</td>\n",
       "      <td>329.6M</td>\n",
       "      <td>2.9M</td>\n",
       "      <td>4M</td>\n",
       "      <td>United States,Science,Movies,Beauty</td>\n",
       "    </tr>\n",
       "    <tr>\n",
       "      <th>3</th>\n",
       "      <td>4</td>\n",
       "      <td>leomessi</td>\n",
       "      <td>358.6M</td>\n",
       "      <td>2.7M</td>\n",
       "      <td>3.5M</td>\n",
       "      <td>Indonesia,Cars and automobiles,Beauty,Health a...</td>\n",
       "    </tr>\n",
       "    <tr>\n",
       "      <th>4</th>\n",
       "      <td>5</td>\n",
       "      <td>zendaya</td>\n",
       "      <td>151.1M</td>\n",
       "      <td>4.3M</td>\n",
       "      <td>5.8M</td>\n",
       "      <td>United States,Parenting and family,Beauty,Art</td>\n",
       "    </tr>\n",
       "    <tr>\n",
       "      <th>...</th>\n",
       "      <td>...</td>\n",
       "      <td>...</td>\n",
       "      <td>...</td>\n",
       "      <td>...</td>\n",
       "      <td>...</td>\n",
       "      <td>...</td>\n",
       "    </tr>\n",
       "    <tr>\n",
       "      <th>1045</th>\n",
       "      <td>996</td>\n",
       "      <td>jadethirlwall</td>\n",
       "      <td>9.4M</td>\n",
       "      <td>174.2K</td>\n",
       "      <td>228.1K</td>\n",
       "      <td>United States,Science,Cooking,Gardening</td>\n",
       "    </tr>\n",
       "    <tr>\n",
       "      <th>1046</th>\n",
       "      <td>997</td>\n",
       "      <td>ninja</td>\n",
       "      <td>12.9M</td>\n",
       "      <td>127.8K</td>\n",
       "      <td>163.9K</td>\n",
       "      <td>United States,Gaming,Travel,DIY and crafts</td>\n",
       "    </tr>\n",
       "    <tr>\n",
       "      <th>1047</th>\n",
       "      <td>998</td>\n",
       "      <td>myriamfares</td>\n",
       "      <td>20.6M</td>\n",
       "      <td>75.8K</td>\n",
       "      <td>102.4K</td>\n",
       "      <td>Iraq,Photography,Science,Technology</td>\n",
       "    </tr>\n",
       "    <tr>\n",
       "      <th>1048</th>\n",
       "      <td>999</td>\n",
       "      <td>optimushwang</td>\n",
       "      <td>4.2M</td>\n",
       "      <td>426K</td>\n",
       "      <td>508K</td>\n",
       "      <td>South Korea,Technology,Science,Social causes a...</td>\n",
       "    </tr>\n",
       "    <tr>\n",
       "      <th>1049</th>\n",
       "      <td>1000</td>\n",
       "      <td>syifahadjureal</td>\n",
       "      <td>15.5M</td>\n",
       "      <td>110.2K</td>\n",
       "      <td>136.1K</td>\n",
       "      <td>Indonesia,Technology,Parenting and family,Fashion</td>\n",
       "    </tr>\n",
       "  </tbody>\n",
       "</table>\n",
       "<p>1050 rows × 6 columns</p>\n",
       "</div>"
      ],
      "text/plain": [
       "      S.no        username followers viewers Average views  \\\n",
       "0        1       cristiano    477.9M      5M          6.2M   \n",
       "1        2     kyliejenner    368.1M    3.5M          5.5M   \n",
       "2        3    arianagrande    329.6M    2.9M            4M   \n",
       "3        4        leomessi    358.6M    2.7M          3.5M   \n",
       "4        5         zendaya    151.1M    4.3M          5.8M   \n",
       "...    ...             ...       ...     ...           ...   \n",
       "1045   996   jadethirlwall      9.4M  174.2K        228.1K   \n",
       "1046   997           ninja     12.9M  127.8K        163.9K   \n",
       "1047   998     myriamfares     20.6M   75.8K        102.4K   \n",
       "1048   999    optimushwang      4.2M    426K          508K   \n",
       "1049  1000  syifahadjureal     15.5M  110.2K        136.1K   \n",
       "\n",
       "                                               keywords  \n",
       "0                India,Parenting and family,Art,History  \n",
       "1     United States,Finance and investments,Travel,Pets  \n",
       "2                   United States,Science,Movies,Beauty  \n",
       "3     Indonesia,Cars and automobiles,Beauty,Health a...  \n",
       "4         United States,Parenting and family,Beauty,Art  \n",
       "...                                                 ...  \n",
       "1045            United States,Science,Cooking,Gardening  \n",
       "1046         United States,Gaming,Travel,DIY and crafts  \n",
       "1047                Iraq,Photography,Science,Technology  \n",
       "1048  South Korea,Technology,Science,Social causes a...  \n",
       "1049  Indonesia,Technology,Parenting and family,Fashion  \n",
       "\n",
       "[1050 rows x 6 columns]"
      ]
     },
     "execution_count": 229,
     "metadata": {},
     "output_type": "execute_result"
    }
   ],
   "source": [
    "influencer_df"
   ]
  },
  {
   "cell_type": "code",
   "execution_count": 230,
   "metadata": {},
   "outputs": [],
   "source": [
    "def convert_to_thousands(value):\n",
    "    if value.endswith('K'):\n",
    "        return float(value[:-1]) \n",
    "    elif value.endswith('M'):\n",
    "        return float(value[:-1]) * 1000\n",
    "    else:\n",
    "        return float(value)"
   ]
  },
  {
   "cell_type": "code",
   "execution_count": 231,
   "metadata": {},
   "outputs": [],
   "source": [
    "influencer_df['followers'] = influencer_df['followers'].apply(convert_to_thousands)"
   ]
  },
  {
   "cell_type": "code",
   "execution_count": 232,
   "metadata": {},
   "outputs": [],
   "source": [
    "influencer_df['viewers'] = influencer_df['viewers'].apply(convert_to_thousands)"
   ]
  },
  {
   "cell_type": "code",
   "execution_count": 233,
   "metadata": {},
   "outputs": [],
   "source": [
    "influencer_df['Average views'] = influencer_df['Average views'].apply(convert_to_thousands)"
   ]
  },
  {
   "cell_type": "code",
   "execution_count": 234,
   "metadata": {},
   "outputs": [
    {
     "name": "stdout",
     "output_type": "stream",
     "text": [
      "<class 'pandas.core.frame.DataFrame'>\n",
      "RangeIndex: 1050 entries, 0 to 1049\n",
      "Data columns (total 6 columns):\n",
      " #   Column         Non-Null Count  Dtype  \n",
      "---  ------         --------------  -----  \n",
      " 0   S.no           1050 non-null   int64  \n",
      " 1   username       1050 non-null   object \n",
      " 2   followers      1050 non-null   float64\n",
      " 3   viewers        1050 non-null   float64\n",
      " 4   Average views  1050 non-null   float64\n",
      " 5   keywords       1046 non-null   object \n",
      "dtypes: float64(3), int64(1), object(2)\n",
      "memory usage: 49.3+ KB\n"
     ]
    }
   ],
   "source": [
    "influencer_df.info()"
   ]
  },
  {
   "cell_type": "code",
   "execution_count": 235,
   "metadata": {},
   "outputs": [
    {
     "name": "stdout",
     "output_type": "stream",
     "text": [
      "<class 'pandas.core.frame.DataFrame'>\n",
      "RangeIndex: 100000 entries, 0 to 99999\n",
      "Data columns (total 2 columns):\n",
      " #   Column    Non-Null Count   Dtype \n",
      "---  ------    --------------   ----- \n",
      " 0   Name      100000 non-null  object\n",
      " 1   keywords  100000 non-null  object\n",
      "dtypes: object(2)\n",
      "memory usage: 1.5+ MB\n"
     ]
    }
   ],
   "source": [
    "usersdf.info()"
   ]
  },
  {
   "cell_type": "code",
   "execution_count": 236,
   "metadata": {},
   "outputs": [],
   "source": [
    "influencer_df.rename(columns={\"followers\":\"Followers(in_K)\",\"viewers\":\"Viewers(in_K)\",\"Average views\":\"Average_views(in_K)\"},inplace=True)"
   ]
  },
  {
   "cell_type": "code",
   "execution_count": 237,
   "metadata": {},
   "outputs": [],
   "source": [
    "influencer_df.drop(index=influencer_df[influencer_df.username.duplicated(keep=\"first\")==True].index,inplace=True)"
   ]
  },
  {
   "cell_type": "code",
   "execution_count": 238,
   "metadata": {},
   "outputs": [
    {
     "name": "stdout",
     "output_type": "stream",
     "text": [
      "<class 'pandas.core.frame.DataFrame'>\n",
      "Int64Index: 983 entries, 0 to 999\n",
      "Data columns (total 6 columns):\n",
      " #   Column               Non-Null Count  Dtype  \n",
      "---  ------               --------------  -----  \n",
      " 0   S.no                 983 non-null    int64  \n",
      " 1   username             983 non-null    object \n",
      " 2   Followers(in_K)      983 non-null    float64\n",
      " 3   Viewers(in_K)        983 non-null    float64\n",
      " 4   Average_views(in_K)  983 non-null    float64\n",
      " 5   keywords             979 non-null    object \n",
      "dtypes: float64(3), int64(1), object(2)\n",
      "memory usage: 53.8+ KB\n"
     ]
    }
   ],
   "source": [
    "influencer_df.info()"
   ]
  },
  {
   "cell_type": "code",
   "execution_count": 239,
   "metadata": {},
   "outputs": [],
   "source": [
    "cols=[\"Followers(in_K)\",\"Viewers(in_K)\",\"Average_views(in_K)\"]\n",
    "data=influencer_df[cols]\n",
    "scaler = MinMaxScaler(feature_range=(0,100))\n",
    "normalized_data = scaler.fit_transform(data)"
   ]
  },
  {
   "cell_type": "code",
   "execution_count": 252,
   "metadata": {},
   "outputs": [],
   "source": [
    "tfidf=TfidfVectorizer(stop_words=\"english\")\n",
    "influencer_df[\"keywords\"]=influencer_df[\"keywords\"].fillna(\"\")\n",
    "influencer_tfidf=tfidf.fit_transform(influencer_df.keywords)\n",
    "users_tfidf=tfidf.fit_transform(usersdf.keywords)"
   ]
  },
  {
   "cell_type": "code",
   "execution_count": 241,
   "metadata": {},
   "outputs": [],
   "source": [
    "cosine_sim=linear_kernel(influencer_tfidf,users_tfidf)"
   ]
  },
  {
   "cell_type": "code",
   "execution_count": 243,
   "metadata": {},
   "outputs": [
    {
     "data": {
      "text/plain": [
       "0"
      ]
     },
     "execution_count": 243,
     "metadata": {},
     "output_type": "execute_result"
    }
   ],
   "source": [
    "indices=pd.Series(influencer_df.index, index=influencer_df[\"username\"])\n",
    "indices[\"cristiano\"]"
   ]
  },
  {
   "cell_type": "code",
   "execution_count": 254,
   "metadata": {},
   "outputs": [
    {
     "ename": "KeyError",
     "evalue": "'Josh Young'",
     "output_type": "error",
     "traceback": [
      "\u001b[1;31m---------------------------------------------------------------------------\u001b[0m",
      "\u001b[1;31mKeyError\u001b[0m                                  Traceback (most recent call last)",
      "File \u001b[1;32m~\\AppData\\Local\\Packages\\PythonSoftwareFoundation.Python.3.10_qbz5n2kfra8p0\\LocalCache\\local-packages\\Python310\\site-packages\\pandas\\core\\indexes\\base.py:3802\u001b[0m, in \u001b[0;36mIndex.get_loc\u001b[1;34m(self, key, method, tolerance)\u001b[0m\n\u001b[0;32m   3801\u001b[0m \u001b[38;5;28;01mtry\u001b[39;00m:\n\u001b[1;32m-> 3802\u001b[0m     \u001b[38;5;28;01mreturn\u001b[39;00m \u001b[38;5;28;43mself\u001b[39;49m\u001b[38;5;241;43m.\u001b[39;49m\u001b[43m_engine\u001b[49m\u001b[38;5;241;43m.\u001b[39;49m\u001b[43mget_loc\u001b[49m\u001b[43m(\u001b[49m\u001b[43mcasted_key\u001b[49m\u001b[43m)\u001b[49m\n\u001b[0;32m   3803\u001b[0m \u001b[38;5;28;01mexcept\u001b[39;00m \u001b[38;5;167;01mKeyError\u001b[39;00m \u001b[38;5;28;01mas\u001b[39;00m err:\n",
      "File \u001b[1;32m~\\AppData\\Local\\Packages\\PythonSoftwareFoundation.Python.3.10_qbz5n2kfra8p0\\LocalCache\\local-packages\\Python310\\site-packages\\pandas\\_libs\\index.pyx:138\u001b[0m, in \u001b[0;36mpandas._libs.index.IndexEngine.get_loc\u001b[1;34m()\u001b[0m\n",
      "File \u001b[1;32m~\\AppData\\Local\\Packages\\PythonSoftwareFoundation.Python.3.10_qbz5n2kfra8p0\\LocalCache\\local-packages\\Python310\\site-packages\\pandas\\_libs\\index.pyx:165\u001b[0m, in \u001b[0;36mpandas._libs.index.IndexEngine.get_loc\u001b[1;34m()\u001b[0m\n",
      "File \u001b[1;32mpandas\\_libs\\hashtable_class_helper.pxi:5745\u001b[0m, in \u001b[0;36mpandas._libs.hashtable.PyObjectHashTable.get_item\u001b[1;34m()\u001b[0m\n",
      "File \u001b[1;32mpandas\\_libs\\hashtable_class_helper.pxi:5753\u001b[0m, in \u001b[0;36mpandas._libs.hashtable.PyObjectHashTable.get_item\u001b[1;34m()\u001b[0m\n",
      "\u001b[1;31mKeyError\u001b[0m: 'Josh Young'",
      "\nThe above exception was the direct cause of the following exception:\n",
      "\u001b[1;31mKeyError\u001b[0m                                  Traceback (most recent call last)",
      "Cell \u001b[1;32mIn[254], line 20\u001b[0m\n\u001b[0;32m     17\u001b[0m     \u001b[38;5;66;03m# Print recommended usernames\u001b[39;00m\n\u001b[0;32m     18\u001b[0m     \u001b[38;5;28mprint\u001b[39m(influencer_df[\u001b[38;5;124m\"\u001b[39m\u001b[38;5;124musername\u001b[39m\u001b[38;5;124m\"\u001b[39m]\u001b[38;5;241m.\u001b[39miloc[sim_indices])\n\u001b[1;32m---> 20\u001b[0m \u001b[43mget_recommendations\u001b[49m\u001b[43m(\u001b[49m\u001b[38;5;124;43m'\u001b[39;49m\u001b[38;5;124;43mJosh Young\u001b[39;49m\u001b[38;5;124;43m'\u001b[39;49m\u001b[43m)\u001b[49m\n",
      "Cell \u001b[1;32mIn[254], line 2\u001b[0m, in \u001b[0;36mget_recommendations\u001b[1;34m(username, cosine_sim, normalized_data)\u001b[0m\n\u001b[0;32m      1\u001b[0m \u001b[38;5;28;01mdef\u001b[39;00m \u001b[38;5;21mget_recommendations\u001b[39m(username, cosine_sim\u001b[38;5;241m=\u001b[39mcosine_sim, normalized_data\u001b[38;5;241m=\u001b[39mnormalized_data):\n\u001b[1;32m----> 2\u001b[0m     idx \u001b[38;5;241m=\u001b[39m \u001b[43mindices\u001b[49m\u001b[43m[\u001b[49m\u001b[43musername\u001b[49m\u001b[43m]\u001b[49m\n\u001b[0;32m      3\u001b[0m     user_normalized_data \u001b[38;5;241m=\u001b[39m normalized_data[idx]\n\u001b[0;32m      4\u001b[0m     \u001b[38;5;66;03m# Broadcast the user's normalized data to match the shape of cosine_sim\u001b[39;00m\n",
      "File \u001b[1;32m~\\AppData\\Local\\Packages\\PythonSoftwareFoundation.Python.3.10_qbz5n2kfra8p0\\LocalCache\\local-packages\\Python310\\site-packages\\pandas\\core\\series.py:981\u001b[0m, in \u001b[0;36mSeries.__getitem__\u001b[1;34m(self, key)\u001b[0m\n\u001b[0;32m    978\u001b[0m     \u001b[38;5;28;01mreturn\u001b[39;00m \u001b[38;5;28mself\u001b[39m\u001b[38;5;241m.\u001b[39m_values[key]\n\u001b[0;32m    980\u001b[0m \u001b[38;5;28;01melif\u001b[39;00m key_is_scalar:\n\u001b[1;32m--> 981\u001b[0m     \u001b[38;5;28;01mreturn\u001b[39;00m \u001b[38;5;28;43mself\u001b[39;49m\u001b[38;5;241;43m.\u001b[39;49m\u001b[43m_get_value\u001b[49m\u001b[43m(\u001b[49m\u001b[43mkey\u001b[49m\u001b[43m)\u001b[49m\n\u001b[0;32m    983\u001b[0m \u001b[38;5;28;01mif\u001b[39;00m is_hashable(key):\n\u001b[0;32m    984\u001b[0m     \u001b[38;5;66;03m# Otherwise index.get_value will raise InvalidIndexError\u001b[39;00m\n\u001b[0;32m    985\u001b[0m     \u001b[38;5;28;01mtry\u001b[39;00m:\n\u001b[0;32m    986\u001b[0m         \u001b[38;5;66;03m# For labels that don't resolve as scalars like tuples and frozensets\u001b[39;00m\n",
      "File \u001b[1;32m~\\AppData\\Local\\Packages\\PythonSoftwareFoundation.Python.3.10_qbz5n2kfra8p0\\LocalCache\\local-packages\\Python310\\site-packages\\pandas\\core\\series.py:1089\u001b[0m, in \u001b[0;36mSeries._get_value\u001b[1;34m(self, label, takeable)\u001b[0m\n\u001b[0;32m   1086\u001b[0m     \u001b[38;5;28;01mreturn\u001b[39;00m \u001b[38;5;28mself\u001b[39m\u001b[38;5;241m.\u001b[39m_values[label]\n\u001b[0;32m   1088\u001b[0m \u001b[38;5;66;03m# Similar to Index.get_value, but we do not fall back to positional\u001b[39;00m\n\u001b[1;32m-> 1089\u001b[0m loc \u001b[38;5;241m=\u001b[39m \u001b[38;5;28;43mself\u001b[39;49m\u001b[38;5;241;43m.\u001b[39;49m\u001b[43mindex\u001b[49m\u001b[38;5;241;43m.\u001b[39;49m\u001b[43mget_loc\u001b[49m\u001b[43m(\u001b[49m\u001b[43mlabel\u001b[49m\u001b[43m)\u001b[49m\n\u001b[0;32m   1090\u001b[0m \u001b[38;5;28;01mreturn\u001b[39;00m \u001b[38;5;28mself\u001b[39m\u001b[38;5;241m.\u001b[39mindex\u001b[38;5;241m.\u001b[39m_get_values_for_loc(\u001b[38;5;28mself\u001b[39m, loc, label)\n",
      "File \u001b[1;32m~\\AppData\\Local\\Packages\\PythonSoftwareFoundation.Python.3.10_qbz5n2kfra8p0\\LocalCache\\local-packages\\Python310\\site-packages\\pandas\\core\\indexes\\base.py:3804\u001b[0m, in \u001b[0;36mIndex.get_loc\u001b[1;34m(self, key, method, tolerance)\u001b[0m\n\u001b[0;32m   3802\u001b[0m     \u001b[38;5;28;01mreturn\u001b[39;00m \u001b[38;5;28mself\u001b[39m\u001b[38;5;241m.\u001b[39m_engine\u001b[38;5;241m.\u001b[39mget_loc(casted_key)\n\u001b[0;32m   3803\u001b[0m \u001b[38;5;28;01mexcept\u001b[39;00m \u001b[38;5;167;01mKeyError\u001b[39;00m \u001b[38;5;28;01mas\u001b[39;00m err:\n\u001b[1;32m-> 3804\u001b[0m     \u001b[38;5;28;01mraise\u001b[39;00m \u001b[38;5;167;01mKeyError\u001b[39;00m(key) \u001b[38;5;28;01mfrom\u001b[39;00m \u001b[38;5;21;01merr\u001b[39;00m\n\u001b[0;32m   3805\u001b[0m \u001b[38;5;28;01mexcept\u001b[39;00m \u001b[38;5;167;01mTypeError\u001b[39;00m:\n\u001b[0;32m   3806\u001b[0m     \u001b[38;5;66;03m# If we have a listlike key, _check_indexing_error will raise\u001b[39;00m\n\u001b[0;32m   3807\u001b[0m     \u001b[38;5;66;03m#  InvalidIndexError. Otherwise we fall through and re-raise\u001b[39;00m\n\u001b[0;32m   3808\u001b[0m     \u001b[38;5;66;03m#  the TypeError.\u001b[39;00m\n\u001b[0;32m   3809\u001b[0m     \u001b[38;5;28mself\u001b[39m\u001b[38;5;241m.\u001b[39m_check_indexing_error(key)\n",
      "\u001b[1;31mKeyError\u001b[0m: 'Josh Young'"
     ]
    }
   ],
   "source": [
    "def get_recommendations(username, cosine_sim=cosine_sim, normalized_data=normalized_data):\n",
    "    idx = indices[username]\n",
    "    user_normalized_data = normalized_data[idx]\n",
    "    # Broadcast the user's normalized data to match the shape of cosine_sim\n",
    "    user_normalized_data_broadcasted = np.tile(user_normalized_data, (len(cosine_sim), 1))\n",
    "    \n",
    "    # Combine cosine_sim and normalized_data\n",
    "    combined_values = cosine_sim[idx] + user_normalized_data_broadcasted.sum(axis=1)\n",
    "    \n",
    "    # Enumerate and sort the combined values\n",
    "    sim_scores = sorted(enumerate(combined_values), key=lambda x: x[1], reverse=True)\n",
    "    \n",
    "    # Get top 10 similar indices\n",
    "    sim_scores = sim_scores[1:11]\n",
    "    sim_indices = [i[0] for i in sim_scores]\n",
    "    \n",
    "    # Print recommended usernames\n",
    "    print(influencer_df[\"username\"].iloc[sim_indices])\n",
    "\n",
    "get_recommendations('Josh Young')\n"
   ]
  }
 ],
 "metadata": {
  "kernelspec": {
   "display_name": "Python 3",
   "language": "python",
   "name": "python3"
  },
  "language_info": {
   "codemirror_mode": {
    "name": "ipython",
    "version": 3
   },
   "file_extension": ".py",
   "mimetype": "text/x-python",
   "name": "python",
   "nbconvert_exporter": "python",
   "pygments_lexer": "ipython3",
   "version": "3.10.11"
  }
 },
 "nbformat": 4,
 "nbformat_minor": 2
}
