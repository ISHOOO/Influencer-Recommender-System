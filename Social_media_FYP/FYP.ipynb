{
 "cells": [
  {
   "cell_type": "code",
   "execution_count": 29,
   "metadata": {},
   "outputs": [],
   "source": [
    "import pandas as pd\n",
    "import numpy as np\n",
    "from sklearn.feature_extraction.text import TfidfVectorizer\n",
    "from sklearn.metrics.pairwise import linear_kernel\n",
    "from sklearn.preprocessing import MinMaxScaler"
   ]
  },
  {
   "cell_type": "code",
   "execution_count": 30,
   "metadata": {},
   "outputs": [],
   "source": [
    "influencer_df=pd.read_csv(\"influencers.csv\")"
   ]
  },
  {
   "cell_type": "code",
   "execution_count": 31,
   "metadata": {},
   "outputs": [],
   "source": [
    "usersdf=pd.read_csv(\"SocialMediaUsers.csv\")"
   ]
  },
  {
   "cell_type": "code",
   "execution_count": 32,
   "metadata": {},
   "outputs": [],
   "source": [
    "usersdf.drop(columns=[\"Gender\",\"UserID\",\"City\",\"DOB\",],inplace=True)"
   ]
  },
  {
   "cell_type": "code",
   "execution_count": 33,
   "metadata": {},
   "outputs": [
    {
     "name": "stdout",
     "output_type": "stream",
     "text": [
      "<class 'pandas.core.frame.DataFrame'>\n",
      "RangeIndex: 100000 entries, 0 to 99999\n",
      "Data columns (total 3 columns):\n",
      " #   Column     Non-Null Count   Dtype \n",
      "---  ------     --------------   ----- \n",
      " 0   Name       100000 non-null  object\n",
      " 1   Interests  100000 non-null  object\n",
      " 2   Country    100000 non-null  object\n",
      "dtypes: object(3)\n",
      "memory usage: 2.3+ MB\n"
     ]
    }
   ],
   "source": [
    "usersdf.info()"
   ]
  },
  {
   "cell_type": "code",
   "execution_count": 34,
   "metadata": {},
   "outputs": [],
   "source": [
    "usersdf[\"keywords\"]=usersdf[\"Interests\"]+\",\"+usersdf[\"Country\"]"
   ]
  },
  {
   "cell_type": "code",
   "execution_count": 35,
   "metadata": {},
   "outputs": [],
   "source": [
    "usersdf[\"keywords\"]=usersdf[\"keywords\"].str.replace(\"'\",\"\")"
   ]
  },
  {
   "cell_type": "code",
   "execution_count": 36,
   "metadata": {},
   "outputs": [],
   "source": [
    "usersdf.drop(columns=[\"Interests\",\"Country\"],inplace=True)"
   ]
  },
  {
   "cell_type": "code",
   "execution_count": 37,
   "metadata": {},
   "outputs": [
    {
     "data": {
      "text/html": [
       "<div>\n",
       "<style scoped>\n",
       "    .dataframe tbody tr th:only-of-type {\n",
       "        vertical-align: middle;\n",
       "    }\n",
       "\n",
       "    .dataframe tbody tr th {\n",
       "        vertical-align: top;\n",
       "    }\n",
       "\n",
       "    .dataframe thead th {\n",
       "        text-align: right;\n",
       "    }\n",
       "</style>\n",
       "<table border=\"1\" class=\"dataframe\">\n",
       "  <thead>\n",
       "    <tr style=\"text-align: right;\">\n",
       "      <th></th>\n",
       "      <th>Name</th>\n",
       "      <th>keywords</th>\n",
       "    </tr>\n",
       "  </thead>\n",
       "  <tbody>\n",
       "    <tr>\n",
       "      <th>0</th>\n",
       "      <td>Jesse Lawhorn</td>\n",
       "      <td>Movies, Fashion, Fashion, Books,Indonesia</td>\n",
       "    </tr>\n",
       "    <tr>\n",
       "      <th>1</th>\n",
       "      <td>Stacy Payne</td>\n",
       "      <td>Gaming, Finance and investments, Outdoor activ...</td>\n",
       "    </tr>\n",
       "    <tr>\n",
       "      <th>2</th>\n",
       "      <td>Katrina Nicewander</td>\n",
       "      <td>DIY and crafts, Music, Science, Fashion,Jordan</td>\n",
       "    </tr>\n",
       "    <tr>\n",
       "      <th>3</th>\n",
       "      <td>Eric Yarbrough</td>\n",
       "      <td>Outdoor activities, Cars and automobiles,Italy</td>\n",
       "    </tr>\n",
       "    <tr>\n",
       "      <th>4</th>\n",
       "      <td>Daniel Adkins</td>\n",
       "      <td>Politics, History,Venezuela</td>\n",
       "    </tr>\n",
       "    <tr>\n",
       "      <th>...</th>\n",
       "      <td>...</td>\n",
       "      <td>...</td>\n",
       "    </tr>\n",
       "    <tr>\n",
       "      <th>99995</th>\n",
       "      <td>Lionel Denault</td>\n",
       "      <td>DIY and crafts,China</td>\n",
       "    </tr>\n",
       "    <tr>\n",
       "      <th>99996</th>\n",
       "      <td>Margie Mieszala</td>\n",
       "      <td>Cars and automobiles, Cooking, Outdoor activit...</td>\n",
       "    </tr>\n",
       "    <tr>\n",
       "      <th>99997</th>\n",
       "      <td>Joan Mercedes</td>\n",
       "      <td>Business and entrepreneurship, Cooking,Chile</td>\n",
       "    </tr>\n",
       "    <tr>\n",
       "      <th>99998</th>\n",
       "      <td>Marvin Massa</td>\n",
       "      <td>Gaming, Business and entrepreneurship, Fashion...</td>\n",
       "    </tr>\n",
       "    <tr>\n",
       "      <th>99999</th>\n",
       "      <td>Josh Young</td>\n",
       "      <td>Politics, Pets,Poland</td>\n",
       "    </tr>\n",
       "  </tbody>\n",
       "</table>\n",
       "<p>100000 rows × 2 columns</p>\n",
       "</div>"
      ],
      "text/plain": [
       "                     Name                                           keywords\n",
       "0           Jesse Lawhorn          Movies, Fashion, Fashion, Books,Indonesia\n",
       "1             Stacy Payne  Gaming, Finance and investments, Outdoor activ...\n",
       "2      Katrina Nicewander     DIY and crafts, Music, Science, Fashion,Jordan\n",
       "3          Eric Yarbrough     Outdoor activities, Cars and automobiles,Italy\n",
       "4           Daniel Adkins                        Politics, History,Venezuela\n",
       "...                   ...                                                ...\n",
       "99995      Lionel Denault                               DIY and crafts,China\n",
       "99996     Margie Mieszala  Cars and automobiles, Cooking, Outdoor activit...\n",
       "99997       Joan Mercedes       Business and entrepreneurship, Cooking,Chile\n",
       "99998        Marvin Massa  Gaming, Business and entrepreneurship, Fashion...\n",
       "99999          Josh Young                              Politics, Pets,Poland\n",
       "\n",
       "[100000 rows x 2 columns]"
      ]
     },
     "execution_count": 37,
     "metadata": {},
     "output_type": "execute_result"
    }
   ],
   "source": [
    "usersdf"
   ]
  },
  {
   "cell_type": "code",
   "execution_count": 38,
   "metadata": {},
   "outputs": [],
   "source": [
    "influencer_df[\"keywords\"]=influencer_df[\"country\"]+\",\"+influencer_df[\"Category_1\"]+\",\"+influencer_df[\"Category_2\"]+\",\"+influencer_df[\"Category_3\"]"
   ]
  },
  {
   "cell_type": "code",
   "execution_count": 39,
   "metadata": {},
   "outputs": [],
   "source": [
    "influencer_df[\"keywords\"]=influencer_df[\"keywords\"].str.replace(\"'\",\"\")"
   ]
  },
  {
   "cell_type": "code",
   "execution_count": 40,
   "metadata": {},
   "outputs": [],
   "source": [
    "influencer_df.drop(columns=[\"country\",\"Category_1\",\"Category_2\",\"Category_3\"],inplace=True)"
   ]
  },
  {
   "cell_type": "code",
   "execution_count": 41,
   "metadata": {},
   "outputs": [
    {
     "data": {
      "text/html": [
       "<div>\n",
       "<style scoped>\n",
       "    .dataframe tbody tr th:only-of-type {\n",
       "        vertical-align: middle;\n",
       "    }\n",
       "\n",
       "    .dataframe tbody tr th {\n",
       "        vertical-align: top;\n",
       "    }\n",
       "\n",
       "    .dataframe thead th {\n",
       "        text-align: right;\n",
       "    }\n",
       "</style>\n",
       "<table border=\"1\" class=\"dataframe\">\n",
       "  <thead>\n",
       "    <tr style=\"text-align: right;\">\n",
       "      <th></th>\n",
       "      <th>S.no</th>\n",
       "      <th>username</th>\n",
       "      <th>followers</th>\n",
       "      <th>viewers</th>\n",
       "      <th>Average views</th>\n",
       "      <th>keywords</th>\n",
       "    </tr>\n",
       "  </thead>\n",
       "  <tbody>\n",
       "    <tr>\n",
       "      <th>0</th>\n",
       "      <td>1</td>\n",
       "      <td>cristiano</td>\n",
       "      <td>477.9M</td>\n",
       "      <td>5M</td>\n",
       "      <td>6.2M</td>\n",
       "      <td>India,Parenting and family,Art,History</td>\n",
       "    </tr>\n",
       "    <tr>\n",
       "      <th>1</th>\n",
       "      <td>2</td>\n",
       "      <td>kyliejenner</td>\n",
       "      <td>368.1M</td>\n",
       "      <td>3.5M</td>\n",
       "      <td>5.5M</td>\n",
       "      <td>United States,Finance and investments,Travel,Pets</td>\n",
       "    </tr>\n",
       "    <tr>\n",
       "      <th>2</th>\n",
       "      <td>3</td>\n",
       "      <td>arianagrande</td>\n",
       "      <td>329.6M</td>\n",
       "      <td>2.9M</td>\n",
       "      <td>4M</td>\n",
       "      <td>United States,Science,Movies,Beauty</td>\n",
       "    </tr>\n",
       "    <tr>\n",
       "      <th>3</th>\n",
       "      <td>4</td>\n",
       "      <td>leomessi</td>\n",
       "      <td>358.6M</td>\n",
       "      <td>2.7M</td>\n",
       "      <td>3.5M</td>\n",
       "      <td>Indonesia,Cars and automobiles,Beauty,Health a...</td>\n",
       "    </tr>\n",
       "    <tr>\n",
       "      <th>4</th>\n",
       "      <td>5</td>\n",
       "      <td>zendaya</td>\n",
       "      <td>151.1M</td>\n",
       "      <td>4.3M</td>\n",
       "      <td>5.8M</td>\n",
       "      <td>United States,Parenting and family,Beauty,Art</td>\n",
       "    </tr>\n",
       "    <tr>\n",
       "      <th>...</th>\n",
       "      <td>...</td>\n",
       "      <td>...</td>\n",
       "      <td>...</td>\n",
       "      <td>...</td>\n",
       "      <td>...</td>\n",
       "      <td>...</td>\n",
       "    </tr>\n",
       "    <tr>\n",
       "      <th>1045</th>\n",
       "      <td>996</td>\n",
       "      <td>jadethirlwall</td>\n",
       "      <td>9.4M</td>\n",
       "      <td>174.2K</td>\n",
       "      <td>228.1K</td>\n",
       "      <td>United States,Science,Cooking,Gardening</td>\n",
       "    </tr>\n",
       "    <tr>\n",
       "      <th>1046</th>\n",
       "      <td>997</td>\n",
       "      <td>ninja</td>\n",
       "      <td>12.9M</td>\n",
       "      <td>127.8K</td>\n",
       "      <td>163.9K</td>\n",
       "      <td>United States,Gaming,Travel,DIY and crafts</td>\n",
       "    </tr>\n",
       "    <tr>\n",
       "      <th>1047</th>\n",
       "      <td>998</td>\n",
       "      <td>myriamfares</td>\n",
       "      <td>20.6M</td>\n",
       "      <td>75.8K</td>\n",
       "      <td>102.4K</td>\n",
       "      <td>Iraq,Photography,Science,Technology</td>\n",
       "    </tr>\n",
       "    <tr>\n",
       "      <th>1048</th>\n",
       "      <td>999</td>\n",
       "      <td>optimushwang</td>\n",
       "      <td>4.2M</td>\n",
       "      <td>426K</td>\n",
       "      <td>508K</td>\n",
       "      <td>South Korea,Technology,Science,Social causes a...</td>\n",
       "    </tr>\n",
       "    <tr>\n",
       "      <th>1049</th>\n",
       "      <td>1000</td>\n",
       "      <td>syifahadjureal</td>\n",
       "      <td>15.5M</td>\n",
       "      <td>110.2K</td>\n",
       "      <td>136.1K</td>\n",
       "      <td>Indonesia,Technology,Parenting and family,Fashion</td>\n",
       "    </tr>\n",
       "  </tbody>\n",
       "</table>\n",
       "<p>1050 rows × 6 columns</p>\n",
       "</div>"
      ],
      "text/plain": [
       "      S.no        username followers viewers Average views  \\\n",
       "0        1       cristiano    477.9M      5M          6.2M   \n",
       "1        2     kyliejenner    368.1M    3.5M          5.5M   \n",
       "2        3    arianagrande    329.6M    2.9M            4M   \n",
       "3        4        leomessi    358.6M    2.7M          3.5M   \n",
       "4        5         zendaya    151.1M    4.3M          5.8M   \n",
       "...    ...             ...       ...     ...           ...   \n",
       "1045   996   jadethirlwall      9.4M  174.2K        228.1K   \n",
       "1046   997           ninja     12.9M  127.8K        163.9K   \n",
       "1047   998     myriamfares     20.6M   75.8K        102.4K   \n",
       "1048   999    optimushwang      4.2M    426K          508K   \n",
       "1049  1000  syifahadjureal     15.5M  110.2K        136.1K   \n",
       "\n",
       "                                               keywords  \n",
       "0                India,Parenting and family,Art,History  \n",
       "1     United States,Finance and investments,Travel,Pets  \n",
       "2                   United States,Science,Movies,Beauty  \n",
       "3     Indonesia,Cars and automobiles,Beauty,Health a...  \n",
       "4         United States,Parenting and family,Beauty,Art  \n",
       "...                                                 ...  \n",
       "1045            United States,Science,Cooking,Gardening  \n",
       "1046         United States,Gaming,Travel,DIY and crafts  \n",
       "1047                Iraq,Photography,Science,Technology  \n",
       "1048  South Korea,Technology,Science,Social causes a...  \n",
       "1049  Indonesia,Technology,Parenting and family,Fashion  \n",
       "\n",
       "[1050 rows x 6 columns]"
      ]
     },
     "execution_count": 41,
     "metadata": {},
     "output_type": "execute_result"
    }
   ],
   "source": [
    "influencer_df"
   ]
  },
  {
   "cell_type": "code",
   "execution_count": 42,
   "metadata": {},
   "outputs": [],
   "source": [
    "def convert_to_thousands(value):\n",
    "    if value.endswith('K'):\n",
    "        return float(value[:-1]) \n",
    "    elif value.endswith('M'):\n",
    "        return float(value[:-1]) * 1000\n",
    "    else:\n",
    "        return float(value)"
   ]
  },
  {
   "cell_type": "code",
   "execution_count": 43,
   "metadata": {},
   "outputs": [],
   "source": [
    "influencer_df['followers'] = influencer_df['followers'].apply(convert_to_thousands)"
   ]
  },
  {
   "cell_type": "code",
   "execution_count": 44,
   "metadata": {},
   "outputs": [],
   "source": [
    "influencer_df['viewers'] = influencer_df['viewers'].apply(convert_to_thousands)"
   ]
  },
  {
   "cell_type": "code",
   "execution_count": 45,
   "metadata": {},
   "outputs": [],
   "source": [
    "influencer_df['Average views'] = influencer_df['Average views'].apply(convert_to_thousands)"
   ]
  },
  {
   "cell_type": "code",
   "execution_count": 46,
   "metadata": {},
   "outputs": [
    {
     "name": "stdout",
     "output_type": "stream",
     "text": [
      "<class 'pandas.core.frame.DataFrame'>\n",
      "RangeIndex: 1050 entries, 0 to 1049\n",
      "Data columns (total 6 columns):\n",
      " #   Column         Non-Null Count  Dtype  \n",
      "---  ------         --------------  -----  \n",
      " 0   S.no           1050 non-null   int64  \n",
      " 1   username       1050 non-null   object \n",
      " 2   followers      1050 non-null   float64\n",
      " 3   viewers        1050 non-null   float64\n",
      " 4   Average views  1050 non-null   float64\n",
      " 5   keywords       1046 non-null   object \n",
      "dtypes: float64(3), int64(1), object(2)\n",
      "memory usage: 49.3+ KB\n"
     ]
    }
   ],
   "source": [
    "influencer_df.info()"
   ]
  },
  {
   "cell_type": "code",
   "execution_count": 47,
   "metadata": {},
   "outputs": [
    {
     "name": "stdout",
     "output_type": "stream",
     "text": [
      "<class 'pandas.core.frame.DataFrame'>\n",
      "RangeIndex: 100000 entries, 0 to 99999\n",
      "Data columns (total 2 columns):\n",
      " #   Column    Non-Null Count   Dtype \n",
      "---  ------    --------------   ----- \n",
      " 0   Name      100000 non-null  object\n",
      " 1   keywords  100000 non-null  object\n",
      "dtypes: object(2)\n",
      "memory usage: 1.5+ MB\n"
     ]
    }
   ],
   "source": [
    "usersdf.info()"
   ]
  },
  {
   "cell_type": "code",
   "execution_count": 48,
   "metadata": {},
   "outputs": [],
   "source": [
    "influencer_df.rename(columns={\"followers\":\"Followers(in_K)\",\"viewers\":\"Viewers(in_K)\",\"Average views\":\"Average_views(in_K)\"},inplace=True)"
   ]
  },
  {
   "cell_type": "code",
   "execution_count": 49,
   "metadata": {},
   "outputs": [],
   "source": [
    "influencer_df.drop(index=influencer_df[influencer_df.username.duplicated(keep=\"first\")==True].index,inplace=True)"
   ]
  },
  {
   "cell_type": "code",
   "execution_count": 50,
   "metadata": {},
   "outputs": [
    {
     "name": "stdout",
     "output_type": "stream",
     "text": [
      "<class 'pandas.core.frame.DataFrame'>\n",
      "Int64Index: 983 entries, 0 to 999\n",
      "Data columns (total 6 columns):\n",
      " #   Column               Non-Null Count  Dtype  \n",
      "---  ------               --------------  -----  \n",
      " 0   S.no                 983 non-null    int64  \n",
      " 1   username             983 non-null    object \n",
      " 2   Followers(in_K)      983 non-null    float64\n",
      " 3   Viewers(in_K)        983 non-null    float64\n",
      " 4   Average_views(in_K)  983 non-null    float64\n",
      " 5   keywords             979 non-null    object \n",
      "dtypes: float64(3), int64(1), object(2)\n",
      "memory usage: 53.8+ KB\n"
     ]
    }
   ],
   "source": [
    "influencer_df.info()"
   ]
  },
  {
   "cell_type": "code",
   "execution_count": 51,
   "metadata": {},
   "outputs": [],
   "source": [
    "cols=[\"Followers(in_K)\",\"Viewers(in_K)\",\"Average_views(in_K)\"]\n",
    "data=influencer_df[cols]\n",
    "scaler = MinMaxScaler(feature_range=(0,100))\n",
    "normalized_data = scaler.fit_transform(data)"
   ]
  },
  {
   "cell_type": "code",
   "execution_count": 52,
   "metadata": {},
   "outputs": [],
   "source": [
    "tfidf=TfidfVectorizer(stop_words=\"english\")\n",
    "influencer_df[\"keywords\"]=influencer_df[\"keywords\"].fillna(\"\")\n",
    "influencer_tfidf=tfidf.fit_transform(influencer_df.keywords)\n",
    "users_tfidf=tfidf.fit_transform(usersdf.keywords)"
   ]
  },
  {
   "cell_type": "code",
   "execution_count": 55,
   "metadata": {},
   "outputs": [],
   "source": [
    "cosine_sim=linear_kernel(influencer_tfidf,influencer_tfidf)"
   ]
  },
  {
   "cell_type": "code",
   "execution_count": 56,
   "metadata": {},
   "outputs": [],
   "source": [
    "indices=pd.Series(influencer_df.index, index=influencer_df[\"username\"])"
   ]
  },
  {
   "cell_type": "code",
   "execution_count": 58,
   "metadata": {},
   "outputs": [
    {
     "name": "stdout",
     "output_type": "stream",
     "text": [
      "244    prattprattpratt\n",
      "812          kaliuchis\n",
      "546        sav.labrant\n",
      "79          niallhoran\n",
      "511         jackharlow\n",
      "127             emrata\n",
      "510         kit.connor\n",
      "333         aron.piper\n",
      "436        amandacerny\n",
      "956       camilacoelho\n",
      "Name: username, dtype: object \n",
      " [(244, 7.5423965472120456), (798, 7.539722736726353), (536, 7.526946275212261), (79, 7.482455110395112), (501, 7.46789502345965), (127, 7.442938404526654), (500, 7.383418638514033), (333, 7.3684733687201), (431, 7.356750888983345), (942, 7.347741837328357)]\n"
     ]
    }
   ],
   "source": [
    "def get_recommendations(username, cosine_sim=cosine_sim, normalized_data=normalized_data):\n",
    "    idx = indices[username]\n",
    "    user_normalized_data = normalized_data[idx]\n",
    "    # Broadcast the user's normalized data to match the shape of cosine_sim\n",
    "    user_normalized_data_broadcasted = np.tile(user_normalized_data, (len(cosine_sim), 1))\n",
    "    \n",
    "    # Combine cosine_sim and normalized_data\n",
    "    combined_values = cosine_sim[idx] + user_normalized_data_broadcasted.sum(axis=1)\n",
    "    \n",
    "    # Enumerate and sort the combined values\n",
    "    sim_scores = sorted(enumerate(combined_values), key=lambda x: x[1], reverse=True)\n",
    "    \n",
    "    # Get top 10 similar indices\n",
    "    sim_scores = sim_scores[1:11]\n",
    "    sim_indices = [i[0] for i in sim_scores]\n",
    "    \n",
    "    # Print recommended usernames\n",
    "    print(influencer_df[\"username\"].iloc[sim_indices],\"\\n\",sim_scores)\n",
    "\n",
    "get_recommendations('jokowi')\n"
   ]
  }
 ],
 "metadata": {
  "kernelspec": {
   "display_name": "Python 3",
   "language": "python",
   "name": "python3"
  },
  "language_info": {
   "codemirror_mode": {
    "name": "ipython",
    "version": 3
   },
   "file_extension": ".py",
   "mimetype": "text/x-python",
   "name": "python",
   "nbconvert_exporter": "python",
   "pygments_lexer": "ipython3",
   "version": "3.10.11"
  }
 },
 "nbformat": 4,
 "nbformat_minor": 2
}
